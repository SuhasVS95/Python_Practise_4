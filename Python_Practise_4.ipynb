{
 "cells": [
  {
   "cell_type": "code",
   "execution_count": 3,
   "metadata": {},
   "outputs": [
    {
     "name": "stdout",
     "output_type": "stream",
     "text": [
      "Enter the number:2\n",
      "Entered number is Even\n",
      "Enter the number:3\n",
      "Entered number is Odd\n"
     ]
    }
   ],
   "source": [
    "#check even odd\n",
    "\n",
    "for i in range(0,2):\n",
    "\n",
    "    num=int(input(\"Enter the number:\"))\n",
    "    if num%2==0:\n",
    "        print(\"Entered number is Even\")\n",
    "    else:\n",
    "         print(\"Entered number is Odd\")\n",
    "    i=i+1\n",
    "    \n"
   ]
  },
  {
   "cell_type": "code",
   "execution_count": 11,
   "metadata": {},
   "outputs": [
    {
     "name": "stdout",
     "output_type": "stream",
     "text": [
      "Enter the number:-5\n",
      "Entered number is Negative\n",
      "Enter the number:0\n",
      "Entered number is Zero\n",
      "Enter the number:5\n",
      "Entered number is Positive\n"
     ]
    }
   ],
   "source": [
    "#check positive, negative or 0\n",
    "\n",
    "for i in range(0,3):\n",
    "\n",
    "    num=int(input(\"Enter the number:\"))\n",
    "    if num<0:\n",
    "        print(\"Entered number is Negative\")\n",
    "    elif num==0:\n",
    "        print(\"Entered number is Zero\")\n",
    "    else:\n",
    "         print(\"Entered number is Positive\")\n",
    "    i=i+1"
   ]
  },
  {
   "cell_type": "code",
   "execution_count": 9,
   "metadata": {},
   "outputs": [
    {
     "name": "stdout",
     "output_type": "stream",
     "text": [
      "Enter the number for the factorial:6\n",
      "Product at the end of iteration 1 is 1\n",
      "Product at the end of iteration 2 is 2\n",
      "Product at the end of iteration 3 is 6\n",
      "Product at the end of iteration 4 is 24\n",
      "Product at the end of iteration 5 is 120\n",
      "Product at the end of iteration 6 is 720\n",
      "The factorial of the number 6 is 720\n"
     ]
    }
   ],
   "source": [
    "#Factorial of a number\n",
    "#example: 6!=1*2*3*4*5*6=720\n",
    "\n",
    "num1=int(input(\"Enter the number for the factorial:\"))\n",
    "i=1\n",
    "factorial=1\n",
    "while (i<=num1):\n",
    "    factorial= factorial*i\n",
    "    print(\"Product at the end of iteration\",i,\"is\",factorial)\n",
    "    i=i+1\n",
    "print(\"The factorial of the number\",num1,\"is\",factorial)"
   ]
  },
  {
   "cell_type": "code",
   "execution_count": 8,
   "metadata": {},
   "outputs": [
    {
     "name": "stdout",
     "output_type": "stream",
     "text": [
      "Enter the number to be reversed:56788\n",
      "Reversed number 88765\n"
     ]
    }
   ],
   "source": [
    "#Reversing a number\n",
    "\n",
    "num2=input(\"Enter the number to be reversed:\")\n",
    "a=list(num2)\n",
    "b=[]\n",
    "i=len(a)-1\n",
    "\n",
    "while i>=0:\n",
    "    b.append(a[i])\n",
    "    i=i-1\n",
    "k=int(\"\".join(b))\n",
    "print(\"Reversed number\",k)"
   ]
  },
  {
   "cell_type": "code",
   "execution_count": 21,
   "metadata": {},
   "outputs": [
    {
     "name": "stdout",
     "output_type": "stream",
     "text": [
      "Enter the number/word:rotor\n",
      "Reversed number/word rotor\n",
      "Given number/word: rotor is a PALINDROME\n"
     ]
    }
   ],
   "source": [
    "#Check if it is a palindrome\n",
    "\n",
    "# Example: madam,1111,radar,rotor.\n",
    "\n",
    "num3=input(\"Enter the number/word:\")\n",
    "a1=list(num3)\n",
    "b1=[]\n",
    "i1=len(a1)-1\n",
    "\n",
    "while i1>=0:\n",
    "    b1.append(a1[i1])\n",
    "    i1=i1-1\n",
    "k1=\"\".join(b1)\n",
    "print(\"Reversed number/word\",k1)\n",
    "\n",
    "import numpy as np\n",
    "a1np=np.array(a1)\n",
    "b1np=np.array(b1)\n",
    "\n",
    "if all(a1np==b1np):\n",
    "    print(\"Given number/word:\",num3,\"is a PALINDROME\")\n",
    "else:\n",
    "    print(\"Given number/word is not a palindrome\")"
   ]
  },
  {
   "cell_type": "code",
   "execution_count": 7,
   "metadata": {},
   "outputs": [
    {
     "name": "stdout",
     "output_type": "stream",
     "text": [
      "Enter the nth element value to be seen:10\n",
      "[0, 1, 1, 2, 3, 5, 8, 13, 21, 34]\n",
      "The value at 10 th position is: 34\n"
     ]
    }
   ],
   "source": [
    "#fibonacci - 0 1 1 2 3 5 8.......# Here creating fibonacci series first and then finding the values for the entered number position\n",
    "\n",
    "i4=int(input(\"Enter the nth element value to be seen:\"))\n",
    "i4=i4-1\n",
    "i=2\n",
    "fib=[0,1]\n",
    "while(i<i4+1):\n",
    "    fib=fib+[(int(fib[i-1])+int(fib[i-2]))]\n",
    "    i=i+1\n",
    "print(fib)\n",
    "\n",
    "print(\"The value at\",i4+1,\"th position is:\",fib[i4])"
   ]
  },
  {
   "cell_type": "code",
   "execution_count": 9,
   "metadata": {},
   "outputs": [
    {
     "name": "stdout",
     "output_type": "stream",
     "text": [
      "i =  20\n",
      "i =  19\n",
      "i =  18\n",
      "i =  17\n",
      "i =  16\n",
      "i =  15\n",
      "i =  14\n",
      "i =  13\n",
      "i =  12\n",
      "i =  11\n",
      "i =  10\n",
      "i =  9\n",
      "i =  8\n",
      "i =  7\n",
      "i =  6\n",
      "i =  5\n",
      "i =  4\n",
      "i =  3\n",
      "i =  2\n",
      "i =  1\n"
     ]
    }
   ],
   "source": [
    "#Translate the following while loop into a for loop.\n",
    "\n",
    "i = 20\n",
    "while (i > 0):\n",
    "    \n",
    "    print (\"i = \",i)\n",
    "    i=i-1"
   ]
  },
  {
   "cell_type": "code",
   "execution_count": 24,
   "metadata": {},
   "outputs": [
    {
     "name": "stdout",
     "output_type": "stream",
     "text": [
      "i = 20\n",
      "i = 19\n",
      "i = 18\n",
      "i = 17\n",
      "i = 16\n",
      "i = 15\n",
      "i = 14\n",
      "i = 13\n",
      "i = 12\n",
      "i = 11\n",
      "i = 10\n",
      "i = 9\n",
      "i = 8\n",
      "i = 7\n",
      "i = 6\n",
      "i = 5\n",
      "i = 4\n",
      "i = 3\n",
      "i = 2\n",
      "i = 1\n"
     ]
    }
   ],
   "source": [
    "for z in range(20,0,-1):\n",
    "    print(\"i =\",z)\n",
    "    #z=z-1\n",
    "   "
   ]
  },
  {
   "cell_type": "code",
   "execution_count": null,
   "metadata": {},
   "outputs": [],
   "source": [
    "#Write a program to Accept a String from the User using relevant keyboard input method, and count the number of lower case letters in that string, and print the count.\n",
    "#a) Test the program for three different input strings."
   ]
  },
  {
   "cell_type": "code",
   "execution_count": 7,
   "metadata": {},
   "outputs": [
    {
     "name": "stdout",
     "output_type": "stream",
     "text": [
      "Enter the string: Suhas\n",
      "The number of lower case alphabets in the given string is 4\n",
      "Enter the string: GreatLearNing\n",
      "The number of lower case alphabets in the given string is 10\n",
      "Enter the string: Data Science\n",
      "The number of lower case alphabets in the given string is 9\n"
     ]
    }
   ],
   "source": [
    "def lowercasecounter():\n",
    "    i=1\n",
    "    while(i<=3):\n",
    "        v=input(\"Enter the string: \")\n",
    "        count=0\n",
    "        for item in v:\n",
    "            if item.islower()==True:\n",
    "                count=count+1\n",
    "                \n",
    "        i=i+1\n",
    "        print(\"The number of lower case alphabets in the given string is\",count)\n",
    "lowercasecounter()"
   ]
  },
  {
   "cell_type": "code",
   "execution_count": 18,
   "metadata": {},
   "outputs": [
    {
     "name": "stdout",
     "output_type": "stream",
     "text": [
      "1 * 1 = 1\n",
      "1 * 2 = 2\n",
      "1 * 3 = 3\n",
      "1 * 4 = 4\n",
      "1 * 5 = 5\n",
      "1 * 6 = 6\n",
      "1 * 7 = 7\n",
      "1 * 8 = 8\n",
      "1 * 9 = 9\n",
      "1 * 10 = 10\n",
      "\n",
      "2 * 1 = 2\n",
      "2 * 2 = 4\n",
      "2 * 3 = 6\n",
      "2 * 4 = 8\n",
      "2 * 5 = 10\n",
      "2 * 6 = 12\n",
      "2 * 7 = 14\n",
      "2 * 8 = 16\n",
      "2 * 9 = 18\n",
      "2 * 10 = 20\n",
      "\n",
      "3 * 1 = 3\n",
      "3 * 2 = 6\n",
      "3 * 3 = 9\n",
      "3 * 4 = 12\n",
      "3 * 5 = 15\n",
      "3 * 6 = 18\n",
      "3 * 7 = 21\n",
      "3 * 8 = 24\n",
      "3 * 9 = 27\n",
      "3 * 10 = 30\n",
      "\n",
      "4 * 1 = 4\n",
      "4 * 2 = 8\n",
      "4 * 3 = 12\n",
      "4 * 4 = 16\n",
      "4 * 5 = 20\n",
      "4 * 6 = 24\n",
      "4 * 7 = 28\n",
      "4 * 8 = 32\n",
      "4 * 9 = 36\n",
      "4 * 10 = 40\n",
      "\n",
      "5 * 1 = 5\n",
      "5 * 2 = 10\n",
      "5 * 3 = 15\n",
      "5 * 4 = 20\n",
      "5 * 5 = 25\n",
      "5 * 6 = 30\n",
      "5 * 7 = 35\n",
      "5 * 8 = 40\n",
      "5 * 9 = 45\n",
      "5 * 10 = 50\n",
      "\n",
      "6 * 1 = 6\n",
      "6 * 2 = 12\n",
      "6 * 3 = 18\n",
      "6 * 4 = 24\n",
      "6 * 5 = 30\n",
      "6 * 6 = 36\n",
      "6 * 7 = 42\n",
      "6 * 8 = 48\n",
      "6 * 9 = 54\n",
      "6 * 10 = 60\n",
      "\n",
      "7 * 1 = 7\n",
      "7 * 2 = 14\n",
      "7 * 3 = 21\n",
      "7 * 4 = 28\n",
      "7 * 5 = 35\n",
      "7 * 6 = 42\n",
      "7 * 7 = 49\n",
      "7 * 8 = 56\n",
      "7 * 9 = 63\n",
      "7 * 10 = 70\n",
      "\n",
      "8 * 1 = 8\n",
      "8 * 2 = 16\n",
      "8 * 3 = 24\n",
      "8 * 4 = 32\n",
      "8 * 5 = 40\n",
      "8 * 6 = 48\n",
      "8 * 7 = 56\n",
      "8 * 8 = 64\n",
      "8 * 9 = 72\n",
      "8 * 10 = 80\n",
      "\n",
      "9 * 1 = 9\n",
      "9 * 2 = 18\n",
      "9 * 3 = 27\n",
      "9 * 4 = 36\n",
      "9 * 5 = 45\n",
      "9 * 6 = 54\n",
      "9 * 7 = 63\n",
      "9 * 8 = 72\n",
      "9 * 9 = 81\n",
      "9 * 10 = 90\n",
      "\n",
      "10 * 1 = 10\n",
      "10 * 2 = 20\n",
      "10 * 3 = 30\n",
      "10 * 4 = 40\n",
      "10 * 5 = 50\n",
      "10 * 6 = 60\n",
      "10 * 7 = 70\n",
      "10 * 8 = 80\n",
      "10 * 9 = 90\n",
      "10 * 10 = 100\n",
      "\n"
     ]
    }
   ],
   "source": [
    "#Write a function to Print Multiplication Tables of 1 to 10.\n",
    "#a) 1x1 to 10x10 using relevant loop keywords.\n",
    "#b) Test the function\n",
    "\n",
    "\n",
    "\n",
    "def oneto10multplicationtable():\n",
    "    \n",
    "    #i=1\n",
    "    j=[1,2,3,4,5,6,7,8,9,10]\n",
    "    \n",
    "    k=0\n",
    "    while(k<=9):\n",
    "        \n",
    "        i=1\n",
    "        while(i<=10):\n",
    "            print(j[k],\"*\",i,\"=\",j[k]*i)\n",
    "            i=i+1\n",
    "        print()\n",
    "        k=k+1\n",
    "        \n",
    "        \n",
    "         \n",
    "oneto10multplicationtable()"
   ]
  },
  {
   "cell_type": "code",
   "execution_count": 26,
   "metadata": {},
   "outputs": [
    {
     "name": "stdout",
     "output_type": "stream",
     "text": [
      "Enter the String:GreatLearning\n"
     ]
    },
    {
     "data": {
      "text/plain": [
       "'gninraeLtaerG'"
      ]
     },
     "execution_count": 26,
     "metadata": {},
     "output_type": "execute_result"
    }
   ],
   "source": [
    "#Given a String as parameter, write a function to reverse the string and\n",
    "#return the reversed string. Print the return value\n",
    "#a) Test the function\n",
    "\n",
    "def reversestring():\n",
    "    \n",
    "    s=input(\"Enter the String:\")\n",
    "    a=''\n",
    "    i=(len(s)-1)\n",
    "    while i>=0:\n",
    "        a=a+s[i]\n",
    "        #print(a)\n",
    "        i=i-1\n",
    "    return a\n",
    "    \n",
    "\n",
    "reversestring()"
   ]
  },
  {
   "cell_type": "code",
   "execution_count": 22,
   "metadata": {},
   "outputs": [
    {
     "name": "stdout",
     "output_type": "stream",
     "text": [
      "Enter the string to be reversed:Suhas\n",
      "Reversed String: sahuS\n"
     ]
    }
   ],
   "source": [
    "num2=input(\"Enter the string to be reversed:\")\n",
    "a=list(num2)\n",
    "b=[]\n",
    "i=len(a)-1\n",
    "\n",
    "while i>=0:\n",
    "    b.append(a[i])\n",
    "    i=i-1\n",
    "k=(\"\".join(b))\n",
    "print(\"Reversed String:\",k)"
   ]
  }
 ],
 "metadata": {
  "kernelspec": {
   "display_name": "Python 3",
   "language": "python",
   "name": "python3"
  },
  "language_info": {
   "codemirror_mode": {
    "name": "ipython",
    "version": 3
   },
   "file_extension": ".py",
   "mimetype": "text/x-python",
   "name": "python",
   "nbconvert_exporter": "python",
   "pygments_lexer": "ipython3",
   "version": "3.7.6"
  }
 },
 "nbformat": 4,
 "nbformat_minor": 4
}
